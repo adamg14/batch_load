{
 "cells": [
  {
   "cell_type": "code",
   "execution_count": 6,
   "id": "c4afaf52-fef7-47a6-8128-3510551dadc2",
   "metadata": {},
   "outputs": [],
   "source": [
    "import pyspark\n",
    "from pyspark.sql import SparkSession\n",
    "import requests"
   ]
  },
  {
   "cell_type": "code",
   "execution_count": 7,
   "id": "9871a2f2-19b0-4321-9852-d2a4ff4dd304",
   "metadata": {},
   "outputs": [],
   "source": [
    "spark = SparkSession.builder.master(\"local[*]\").appName(\"test\").getOrCreate()"
   ]
  },
  {
   "cell_type": "code",
   "execution_count": 9,
   "id": "6119e5d8-07f7-463a-bf75-e8aba45c44b2",
   "metadata": {},
   "outputs": [
    {
     "name": "stderr",
     "output_type": "stream",
     "text": [
      "[Stage 7:>                                                          (0 + 1) / 1]"
     ]
    },
    {
     "name": "stdout",
     "output_type": "stream",
     "text": [
      "+-----------------+--------------------+--------------------+-------------------+-------------------+-------------------+-------------------+------------+------------+----------+---------+-------------------+-----+----+---------+--------------------+-----------+----+----------+-------------------+-----------------+------------------+----------------+--------------+------------------+\n",
      "|hvfhs_license_num|dispatching_base_num|originating_base_num|   request_datetime|  on_scene_datetime|    pickup_datetime|   dropoff_datetime|PULocationID|DOLocationID|trip_miles|trip_time|base_passenger_fare|tolls| bcf|sales_tax|congestion_surcharge|airport_fee|tips|driver_pay|shared_request_flag|shared_match_flag|access_a_ride_flag|wav_request_flag|wav_match_flag|cbd_congestion_fee|\n",
      "+-----------------+--------------------+--------------------+-------------------+-------------------+-------------------+-------------------+------------+------------+----------+---------+-------------------+-----+----+---------+--------------------+-----------+----+----------+-------------------+-----------------+------------------+----------------+--------------+------------------+\n",
      "|           HV0003|              B03404|              B03404|2025-01-01 00:28:07|2025-01-01 00:31:17|2025-01-01 00:33:25|2025-01-01 00:54:24|         148|         211|      1.32|     1259|              18.21|  0.0|0.46|      1.5|                2.75|        0.0| 0.0|     15.71|                  N|                N|                 N|               N|             N|               0.0|\n",
      "|           HV0005|              B03406|                NULL|2025-01-01 00:18:33|               NULL|2025-01-01 00:29:49|2025-01-01 00:41:52|         127|         244|     3.313|      723|              16.97|  0.0|0.47|     1.51|                 0.0|        0.0| 0.0|     23.57|                  N|                N|                 N|               N|             N|               0.0|\n",
      "|           HV0003|              B03404|              B03404|2025-01-01 00:28:22|2025-01-01 00:31:52|2025-01-01 00:32:39|2025-01-01 01:20:33|         132|         181|     13.43|     2874|              40.36|  0.0|1.18|      3.8|                 0.0|        2.5| 0.0|     47.75|                  N|                N|                 N|               N|             N|               0.0|\n",
      "|           HV0003|              B03404|              B03404|2025-01-01 00:27:13|2025-01-01 00:33:58|2025-01-01 00:34:55|2025-01-01 00:39:19|          76|          76|      0.82|      264|              12.24|  0.0|0.34|     1.08|                 0.0|        0.0| 0.0|      12.2|                  N|                N|                 N|               N|             N|               0.0|\n",
      "|           HV0003|              B03404|              B03404|2025-01-01 00:33:29|2025-01-01 00:45:46|2025-01-01 00:46:19|2025-01-01 00:53:56|          76|          76|      1.61|      457|              19.76|  0.0|0.54|     1.76|                 0.0|        0.0| 0.0|     17.67|                  N|                N|                 N|               N|             N|               0.0|\n",
      "|           HV0003|              B03404|              B03404|2025-01-01 00:34:43|2025-01-01 00:45:29|2025-01-01 00:45:50|2025-01-01 01:20:23|         112|          89|      9.66|     2073|               29.5|  0.0|0.81|     2.62|                 0.0|        0.0|6.58|     40.16|                  N|                N|                 N|               N|             N|               0.0|\n",
      "|           HV0003|              B03404|              B03404|2025-01-01 00:21:17|2025-01-01 00:24:00|2025-01-01 00:25:37|2025-01-01 00:42:44|         236|         235|      6.95|     1027|              22.35|  0.0|0.61|     1.99|                 0.0|        0.0| 0.0|     20.55|                  N|                N|                 N|               N|             N|               0.0|\n",
      "|           HV0003|              B03404|              B03404|2025-01-01 00:27:27|2025-01-01 00:32:50|2025-01-01 00:34:51|2025-01-01 01:23:02|          90|         242|     14.15|     2891|              38.87|  0.0|1.04|     3.36|                2.75|        0.0| 0.0|     51.58|                  N|                N|                 N|               N|             N|               0.0|\n",
      "|           HV0005|              B03406|                NULL|2025-01-01 00:10:48|               NULL|2025-01-01 00:12:35|2025-01-01 00:51:37|         234|          41|     7.254|     2342|              33.49|  0.0|0.89|     2.86|                2.75|        0.0| 0.0|     35.74|                  N|                N|                 N|               N|             N|               0.0|\n",
      "|           HV0005|              B03406|                NULL|2025-01-01 00:47:41|               NULL|2025-01-01 00:58:49|2025-01-01 01:55:23|          41|         188|    16.748|     3394|              92.93| 4.08|2.67|     8.61|                 0.0|        0.0| 0.0|     55.95|                  N|                N|                 N|               N|             N|               0.0|\n",
      "|           HV0005|              B03406|                NULL|2025-01-01 00:02:47|               NULL|2025-01-01 00:06:32|2025-01-01 00:17:04|         141|         239|     2.095|      632|              12.57|  0.0|0.35|     1.11|                2.75|        0.0|3.36|     13.02|                  N|                N|                 N|               N|             N|               0.0|\n",
      "|           HV0005|              B03406|                NULL|2025-01-01 00:10:09|               NULL|2025-01-01 00:19:16|2025-01-01 00:28:49|         239|         166|     2.876|      573|              11.86|  0.0|0.33|     1.05|                2.75|        0.0| 0.0|     13.01|                  N|                N|                 N|               N|             N|               0.0|\n",
      "|           HV0005|              B03406|                NULL|2025-01-01 00:21:56|               NULL|2025-01-01 00:32:52|2025-01-01 00:39:49|         166|         116|       1.1|      417|              11.87|  0.0|0.33|     1.05|                 0.0|        0.0| 0.0|      5.56|                  N|                N|                 N|               N|             N|               0.0|\n",
      "|           HV0005|              B03406|                NULL|2025-01-01 00:40:54|               NULL|2025-01-01 00:48:51|2025-01-01 00:57:33|         116|          42|     0.959|      522|              17.91|  0.0|0.49|     1.59|                 0.0|        0.0| 0.0|      17.4|                  N|                N|                 N|               N|             N|               0.0|\n",
      "|           HV0003|              B03404|              B03404|2025-01-01 00:29:36|2025-01-01 00:31:24|2025-01-01 00:31:43|2025-01-01 00:43:37|         223|         226|      3.06|      714|              16.94|  0.0|0.46|     1.51|                 0.0|        0.0| 5.0|     12.22|                  N|                N|                 N|               N|             N|               0.0|\n",
      "|           HV0003|              B03404|              B03404|2025-01-01 00:38:52|2025-01-01 00:44:12|2025-01-01 00:44:58|2025-01-01 00:51:03|         226|         260|      1.25|      365|                9.4|  0.0|0.26|     0.84|                 0.0|        0.0| 0.0|      6.36|                  N|                N|                 N|               N|             N|               0.0|\n",
      "|           HV0003|              B03404|              B03404|2025-01-01 00:45:03|2025-01-01 00:54:52|2025-01-01 00:55:32|2025-01-01 01:22:21|          83|         265|     12.77|     1609|              62.86|  0.0|1.73|     5.58|                 0.0|        0.0| 0.0|     39.95|                  N|                N|                 N|               N|             N|               0.0|\n",
      "|           HV0003|              B03404|              B03404|2025-01-01 00:23:17|2025-01-01 00:26:45|2025-01-01 00:28:44|2025-01-01 00:48:17|         124|         198|      5.53|     1173|               25.2|  0.0|0.69|     2.23|                 0.0|        0.0|4.21|      20.2|                  N|                N|                 N|               N|             N|               0.0|\n",
      "|           HV0005|              B03406|                NULL|2025-01-01 00:30:01|               NULL|2025-01-01 00:29:40|2025-01-01 01:17:54|         148|         151|     8.134|     2894|              63.99| 1.61| 1.8|     5.82|                2.75|        0.0| 0.0|     42.56|                  N|                N|                 N|               N|             N|               0.0|\n",
      "|           HV0003|              B03404|              B03404|2025-01-01 00:08:51|2025-01-01 00:11:48|2025-01-01 00:12:20|2025-01-01 00:29:11|         198|          82|      3.66|     1011|              19.62|  0.0|0.54|     1.74|                 0.0|        0.0|2.19|     15.77|                  N|                N|                 N|               N|             N|               0.0|\n",
      "+-----------------+--------------------+--------------------+-------------------+-------------------+-------------------+-------------------+------------+------------+----------+---------+-------------------+-----+----+---------+--------------------+-----------+----+----------+-------------------+-----------------+------------------+----------------+--------------+------------------+\n",
      "only showing top 20 rows\n",
      "\n"
     ]
    },
    {
     "name": "stderr",
     "output_type": "stream",
     "text": [
      "                                                                                "
     ]
    }
   ],
   "source": [
    "taxi_data = spark.read.option(\"header\", \"true\").parquet(\"fhvhv_tripdata_2025-01.parquet\")\n",
    "taxi_data.show()"
   ]
  },
  {
   "cell_type": "code",
   "execution_count": 11,
   "id": "2846dfc0-d6ca-4621-abfc-43afa38a5fe2",
   "metadata": {},
   "outputs": [
    {
     "name": "stderr",
     "output_type": "stream",
     "text": [
      "                                                                                "
     ]
    },
    {
     "data": {
      "text/plain": [
       "[Row(hvfhs_license_num='HV0003', dispatching_base_num='B03404', originating_base_num='B03404', request_datetime=datetime.datetime(2025, 1, 1, 0, 28, 7), on_scene_datetime=datetime.datetime(2025, 1, 1, 0, 31, 17), pickup_datetime=datetime.datetime(2025, 1, 1, 0, 33, 25), dropoff_datetime=datetime.datetime(2025, 1, 1, 0, 54, 24), PULocationID=148, DOLocationID=211, trip_miles=1.32, trip_time=1259, base_passenger_fare=18.21, tolls=0.0, bcf=0.46, sales_tax=1.5, congestion_surcharge=2.75, airport_fee=0.0, tips=0.0, driver_pay=15.71, shared_request_flag='N', shared_match_flag='N', access_a_ride_flag='N', wav_request_flag='N', wav_match_flag='N', cbd_congestion_fee=0.0),\n",
       " Row(hvfhs_license_num='HV0005', dispatching_base_num='B03406', originating_base_num=None, request_datetime=datetime.datetime(2025, 1, 1, 0, 18, 33), on_scene_datetime=None, pickup_datetime=datetime.datetime(2025, 1, 1, 0, 29, 49), dropoff_datetime=datetime.datetime(2025, 1, 1, 0, 41, 52), PULocationID=127, DOLocationID=244, trip_miles=3.313, trip_time=723, base_passenger_fare=16.97, tolls=0.0, bcf=0.47, sales_tax=1.51, congestion_surcharge=0.0, airport_fee=0.0, tips=0.0, driver_pay=23.57, shared_request_flag='N', shared_match_flag='N', access_a_ride_flag='N', wav_request_flag='N', wav_match_flag='N', cbd_congestion_fee=0.0),\n",
       " Row(hvfhs_license_num='HV0003', dispatching_base_num='B03404', originating_base_num='B03404', request_datetime=datetime.datetime(2025, 1, 1, 0, 28, 22), on_scene_datetime=datetime.datetime(2025, 1, 1, 0, 31, 52), pickup_datetime=datetime.datetime(2025, 1, 1, 0, 32, 39), dropoff_datetime=datetime.datetime(2025, 1, 1, 1, 20, 33), PULocationID=132, DOLocationID=181, trip_miles=13.43, trip_time=2874, base_passenger_fare=40.36, tolls=0.0, bcf=1.18, sales_tax=3.8, congestion_surcharge=0.0, airport_fee=2.5, tips=0.0, driver_pay=47.75, shared_request_flag='N', shared_match_flag='N', access_a_ride_flag='N', wav_request_flag='N', wav_match_flag='N', cbd_congestion_fee=0.0),\n",
       " Row(hvfhs_license_num='HV0003', dispatching_base_num='B03404', originating_base_num='B03404', request_datetime=datetime.datetime(2025, 1, 1, 0, 27, 13), on_scene_datetime=datetime.datetime(2025, 1, 1, 0, 33, 58), pickup_datetime=datetime.datetime(2025, 1, 1, 0, 34, 55), dropoff_datetime=datetime.datetime(2025, 1, 1, 0, 39, 19), PULocationID=76, DOLocationID=76, trip_miles=0.82, trip_time=264, base_passenger_fare=12.24, tolls=0.0, bcf=0.34, sales_tax=1.08, congestion_surcharge=0.0, airport_fee=0.0, tips=0.0, driver_pay=12.2, shared_request_flag='N', shared_match_flag='N', access_a_ride_flag='N', wav_request_flag='N', wav_match_flag='N', cbd_congestion_fee=0.0),\n",
       " Row(hvfhs_license_num='HV0003', dispatching_base_num='B03404', originating_base_num='B03404', request_datetime=datetime.datetime(2025, 1, 1, 0, 33, 29), on_scene_datetime=datetime.datetime(2025, 1, 1, 0, 45, 46), pickup_datetime=datetime.datetime(2025, 1, 1, 0, 46, 19), dropoff_datetime=datetime.datetime(2025, 1, 1, 0, 53, 56), PULocationID=76, DOLocationID=76, trip_miles=1.61, trip_time=457, base_passenger_fare=19.76, tolls=0.0, bcf=0.54, sales_tax=1.76, congestion_surcharge=0.0, airport_fee=0.0, tips=0.0, driver_pay=17.67, shared_request_flag='N', shared_match_flag='N', access_a_ride_flag='N', wav_request_flag='N', wav_match_flag='N', cbd_congestion_fee=0.0)]"
      ]
     },
     "execution_count": 11,
     "metadata": {},
     "output_type": "execute_result"
    }
   ],
   "source": [
    "taxi_data.head(5)"
   ]
  },
  {
   "cell_type": "code",
   "execution_count": 13,
   "id": "44b4294e-2252-4c90-813f-eb133713b54d",
   "metadata": {},
   "outputs": [
    {
     "data": {
      "text/plain": [
       "StructType([StructField('hvfhs_license_num', StringType(), True), StructField('dispatching_base_num', StringType(), True), StructField('originating_base_num', StringType(), True), StructField('request_datetime', TimestampNTZType(), True), StructField('on_scene_datetime', TimestampNTZType(), True), StructField('pickup_datetime', TimestampNTZType(), True), StructField('dropoff_datetime', TimestampNTZType(), True), StructField('PULocationID', IntegerType(), True), StructField('DOLocationID', IntegerType(), True), StructField('trip_miles', DoubleType(), True), StructField('trip_time', LongType(), True), StructField('base_passenger_fare', DoubleType(), True), StructField('tolls', DoubleType(), True), StructField('bcf', DoubleType(), True), StructField('sales_tax', DoubleType(), True), StructField('congestion_surcharge', DoubleType(), True), StructField('airport_fee', DoubleType(), True), StructField('tips', DoubleType(), True), StructField('driver_pay', DoubleType(), True), StructField('shared_request_flag', StringType(), True), StructField('shared_match_flag', StringType(), True), StructField('access_a_ride_flag', StringType(), True), StructField('wav_request_flag', StringType(), True), StructField('wav_match_flag', StringType(), True), StructField('cbd_congestion_fee', DoubleType(), True)])"
      ]
     },
     "execution_count": 13,
     "metadata": {},
     "output_type": "execute_result"
    }
   ],
   "source": [
    "taxi_data.schema"
   ]
  },
  {
   "cell_type": "code",
   "execution_count": 25,
   "id": "94752e8b-925c-4268-b143-62d741475843",
   "metadata": {},
   "outputs": [],
   "source": [
    "!head -n 100 fhvhv_tripdata_2025-01.parquet > head.parquet"
   ]
  },
  {
   "cell_type": "code",
   "execution_count": null,
   "id": "e70ca952-72b9-43e6-93b6-273ef1f6654c",
   "metadata": {},
   "outputs": [],
   "source": [
    "import pandas as pd\n",
    "\n",
    "taxi_data_pandas = pd.read_parquet(\"fhvhv_tripdata_2025-01.parquet\", engine=\"pyarrow\")\n",
    "print(taxi_data_pandas.head())\n",
    "\n",
    "data_schema = taxi_data_pandas.dtypes\n",
    "print(data_schema)"
   ]
  },
  {
   "cell_type": "code",
   "execution_count": null,
   "id": "7705f4f0-dbd9-4ca9-9c58-930b1903e65a",
   "metadata": {},
   "outputs": [],
   "source": [
    "# create a spark dataframe\n",
    "taxi_data_sdf = spark.createDataFrame(taxi_data_pandas)"
   ]
  },
  {
   "cell_type": "code",
   "execution_count": null,
   "id": "0ed14648-27d7-4845-89d3-b281b71fe091",
   "metadata": {},
   "outputs": [],
   "source": [
    "taxi_data_sdf.show()"
   ]
  },
  {
   "cell_type": "code",
   "execution_count": null,
   "id": "baabf7f0-1f2e-4f62-8a29-8833966bbcc2",
   "metadata": {},
   "outputs": [],
   "source": [
    "taxi_data_sdf.schema"
   ]
  },
  {
   "cell_type": "code",
   "execution_count": null,
   "id": "345ad3ed-93b1-4d82-99e7-c19966e343d0",
   "metadata": {},
   "outputs": [],
   "source": [
    "from pyspark.sql import types\n",
    "\n",
    "schema = StructType(\n",
    "    StructField('hvfhs_license_num', StringType(), True),\n",
    "    StructField('dispatching_base_num', StringType(), True),\n",
    "    StructField('pickup_datetime', TimestampType(), True),\n",
    "    StructField('dropoff_datetime', IntegerType(), True),\n",
    "    StructField('P'),\n",
    "    StructField(),\n",
    "    StructField()\n",
    ")"
   ]
  }
 ],
 "metadata": {
  "kernelspec": {
   "display_name": "Python 3 (ipykernel)",
   "language": "python",
   "name": "python3"
  },
  "language_info": {
   "codemirror_mode": {
    "name": "ipython",
    "version": 3
   },
   "file_extension": ".py",
   "mimetype": "text/x-python",
   "name": "python",
   "nbconvert_exporter": "python",
   "pygments_lexer": "ipython3",
   "version": "3.10.12"
  }
 },
 "nbformat": 4,
 "nbformat_minor": 5
}
